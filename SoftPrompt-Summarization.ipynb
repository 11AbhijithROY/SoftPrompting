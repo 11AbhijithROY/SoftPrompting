{
 "cells": [
  {
   "cell_type": "markdown",
   "metadata": {},
   "source": [
    "__Group Name__ : __Data Dynamo__\n",
    "1. Roy, Abhijith; `abhijithroy.roy@carelon.com`,\n",
    "2. Acharya, Ananth; `ananth.acharya@carelon.com`; \n",
    "3. Kumar, Diwakar; `diwakar.kumar@carelon.com`; \n",
    "4. Gouse, Mohammad; `mohammad.gouse@carelon.com`;\n",
    "5. Peketi, Santhosh; `santhosh.peketi@carelon.com`, "
   ]
  },
  {
   "cell_type": "markdown",
   "metadata": {},
   "source": [
    "# Assignment 6 - Summarization \n",
    "\n"
   ]
  },
  {
   "cell_type": "markdown",
   "metadata": {},
   "source": [
    "## Objective\n",
    "- Implement prompt tuning on a GPT-2 small model using PyTorch and fine-tune it\n",
    "on summarization, "
   ]
  },
  {
   "cell_type": "code",
   "execution_count": 1,
   "metadata": {
    "execution": {
     "iopub.execute_input": "2024-01-20T19:46:15.066267Z",
     "iopub.status.busy": "2024-01-20T19:46:15.065951Z",
     "iopub.status.idle": "2024-01-20T19:46:21.808785Z",
     "shell.execute_reply": "2024-01-20T19:46:21.807848Z",
     "shell.execute_reply.started": "2024-01-20T19:46:15.066241Z"
    }
   },
   "outputs": [
    {
     "name": "stderr",
     "output_type": "stream",
     "text": [
      "/opt/conda/lib/python3.10/site-packages/scipy/__init__.py:146: UserWarning: A NumPy version >=1.16.5 and <1.23.0 is required for this version of SciPy (detected version 1.24.3\n",
      "  warnings.warn(f\"A NumPy version >={np_minversion} and <{np_maxversion}\"\n"
     ]
    }
   ],
   "source": [
    "#importing required libraries for the  task.....\n",
    "import numpy as np \n",
    "import pandas as pd \n",
    "\n",
    "import nltk\n",
    "from nltk.translate.bleu_score import sentence_bleu\n",
    "\n",
    "import torch\n",
    "import torch.nn as nn\n",
    "from torch.utils.data import DataLoader\n",
    "from transformers import GPT2LMHeadModel, GPT2Tokenizer,AdamW\n",
    "from torch.nn.utils.rnn import pad_sequence\n",
    "from datasets import load_dataset\n",
    "from tqdm import tqdm\n",
    "import wandb"
   ]
  },
  {
   "cell_type": "markdown",
   "metadata": {},
   "source": [
    "## Setup\n"
   ]
  },
  {
   "cell_type": "code",
   "execution_count": 2,
   "metadata": {
    "execution": {
     "iopub.execute_input": "2024-01-20T19:46:22.553385Z",
     "iopub.status.busy": "2024-01-20T19:46:22.552358Z",
     "iopub.status.idle": "2024-01-20T19:46:22.559867Z",
     "shell.execute_reply": "2024-01-20T19:46:22.559058Z",
     "shell.execute_reply.started": "2024-01-20T19:46:22.553351Z"
    }
   },
   "outputs": [],
   "source": [
    "np.object = object"
   ]
  },
  {
   "cell_type": "markdown",
   "metadata": {},
   "source": [
    "#### Ensure you have the necessary datasets the task. "
   ]
  },
  {
   "cell_type": "code",
   "execution_count": 3,
   "metadata": {
    "execution": {
     "iopub.execute_input": "2024-01-20T19:46:25.938660Z",
     "iopub.status.busy": "2024-01-20T19:46:25.937789Z",
     "iopub.status.idle": "2024-01-20T19:49:38.399942Z",
     "shell.execute_reply": "2024-01-20T19:49:38.399093Z",
     "shell.execute_reply.started": "2024-01-20T19:46:25.938627Z"
    }
   },
   "outputs": [
    {
     "data": {
      "application/vnd.jupyter.widget-view+json": {
       "model_id": "78046f6f1e174311aa360a165d2497a9",
       "version_major": 2,
       "version_minor": 0
      },
      "text/plain": [
       "Downloading builder script:   0%|          | 0.00/9.27k [00:00<?, ?B/s]"
      ]
     },
     "metadata": {},
     "output_type": "display_data"
    },
    {
     "name": "stdout",
     "output_type": "stream",
     "text": [
      "Downloading and preparing dataset cnn_dailymail/3.0.0 to /root/.cache/huggingface/datasets/ccdv___cnn_dailymail/3.0.0/3.0.0/0107f7388b5c6fae455a5661bcd134fc22da53ea75852027040d8d1e997f101f...\n"
     ]
    },
    {
     "data": {
      "application/vnd.jupyter.widget-view+json": {
       "model_id": "51cfa4e175474c44aa3a3a596e03c06f",
       "version_major": 2,
       "version_minor": 0
      },
      "text/plain": [
       "Downloading data files:   0%|          | 0/5 [00:00<?, ?it/s]"
      ]
     },
     "metadata": {},
     "output_type": "display_data"
    },
    {
     "data": {
      "application/vnd.jupyter.widget-view+json": {
       "model_id": "e918dc95815a4660977122a8f324817e",
       "version_major": 2,
       "version_minor": 0
      },
      "text/plain": [
       "Downloading data:   0%|          | 0.00/159M [00:00<?, ?B/s]"
      ]
     },
     "metadata": {},
     "output_type": "display_data"
    },
    {
     "data": {
      "application/vnd.jupyter.widget-view+json": {
       "model_id": "43364da8ab0d4f5d8a96213816a2e650",
       "version_major": 2,
       "version_minor": 0
      },
      "text/plain": [
       "Downloading data:   0%|          | 0.00/376M [00:00<?, ?B/s]"
      ]
     },
     "metadata": {},
     "output_type": "display_data"
    },
    {
     "data": {
      "application/vnd.jupyter.widget-view+json": {
       "model_id": "1a2593237ae64dfaa805aaa62f51a417",
       "version_major": 2,
       "version_minor": 0
      },
      "text/plain": [
       "Downloading data:   0%|          | 0.00/572k [00:00<?, ?B/s]"
      ]
     },
     "metadata": {},
     "output_type": "display_data"
    },
    {
     "data": {
      "application/vnd.jupyter.widget-view+json": {
       "model_id": "93c97bce82dc4d1887593927139e9b55",
       "version_major": 2,
       "version_minor": 0
      },
      "text/plain": [
       "Downloading data:   0%|          | 0.00/12.3M [00:00<?, ?B/s]"
      ]
     },
     "metadata": {},
     "output_type": "display_data"
    },
    {
     "data": {
      "application/vnd.jupyter.widget-view+json": {
       "model_id": "702487bbdc3d4a1ab7e2667a21f57cd2",
       "version_major": 2,
       "version_minor": 0
      },
      "text/plain": [
       "Downloading data:   0%|          | 0.00/661k [00:00<?, ?B/s]"
      ]
     },
     "metadata": {},
     "output_type": "display_data"
    },
    {
     "data": {
      "application/vnd.jupyter.widget-view+json": {
       "model_id": "c55b897a8a094d949c3d3f2fa4a80126",
       "version_major": 2,
       "version_minor": 0
      },
      "text/plain": [
       "Extracting data files:   0%|          | 0/5 [00:00<?, ?it/s]"
      ]
     },
     "metadata": {},
     "output_type": "display_data"
    },
    {
     "data": {
      "application/vnd.jupyter.widget-view+json": {
       "model_id": "",
       "version_major": 2,
       "version_minor": 0
      },
      "text/plain": [
       "Generating train split: 0 examples [00:00, ? examples/s]"
      ]
     },
     "metadata": {},
     "output_type": "display_data"
    },
    {
     "data": {
      "application/vnd.jupyter.widget-view+json": {
       "model_id": "",
       "version_major": 2,
       "version_minor": 0
      },
      "text/plain": [
       "Generating validation split: 0 examples [00:00, ? examples/s]"
      ]
     },
     "metadata": {},
     "output_type": "display_data"
    },
    {
     "data": {
      "application/vnd.jupyter.widget-view+json": {
       "model_id": "",
       "version_major": 2,
       "version_minor": 0
      },
      "text/plain": [
       "Generating test split: 0 examples [00:00, ? examples/s]"
      ]
     },
     "metadata": {},
     "output_type": "display_data"
    },
    {
     "name": "stdout",
     "output_type": "stream",
     "text": [
      "Dataset cnn_dailymail downloaded and prepared to /root/.cache/huggingface/datasets/ccdv___cnn_dailymail/3.0.0/3.0.0/0107f7388b5c6fae455a5661bcd134fc22da53ea75852027040d8d1e997f101f. Subsequent calls will reuse this data.\n"
     ]
    },
    {
     "data": {
      "application/vnd.jupyter.widget-view+json": {
       "model_id": "15b5d5c834bc487c8fa142a5a5f7a192",
       "version_major": 2,
       "version_minor": 0
      },
      "text/plain": [
       "  0%|          | 0/3 [00:00<?, ?it/s]"
      ]
     },
     "metadata": {},
     "output_type": "display_data"
    }
   ],
   "source": [
    "#reading dataset from hub.....\n",
    "dataset = load_dataset(\"ccdv/cnn_dailymail\",\"3.0.0\")"
   ]
  },
  {
   "cell_type": "code",
   "execution_count": 4,
   "metadata": {
    "execution": {
     "iopub.execute_input": "2024-01-20T19:49:43.938918Z",
     "iopub.status.busy": "2024-01-20T19:49:43.938251Z",
     "iopub.status.idle": "2024-01-20T19:49:43.943795Z",
     "shell.execute_reply": "2024-01-20T19:49:43.942819Z",
     "shell.execute_reply.started": "2024-01-20T19:49:43.938883Z"
    }
   },
   "outputs": [
    {
     "name": "stdout",
     "output_type": "stream",
     "text": [
      "DatasetDict({\n",
      "    train: Dataset({\n",
      "        features: ['article', 'highlights', 'id'],\n",
      "        num_rows: 287113\n",
      "    })\n",
      "    validation: Dataset({\n",
      "        features: ['article', 'highlights', 'id'],\n",
      "        num_rows: 13368\n",
      "    })\n",
      "    test: Dataset({\n",
      "        features: ['article', 'highlights', 'id'],\n",
      "        num_rows: 11490\n",
      "    })\n",
      "})\n"
     ]
    }
   ],
   "source": [
    "#datset..\n",
    "print(dataset)"
   ]
  },
  {
   "cell_type": "code",
   "execution_count": 5,
   "metadata": {
    "execution": {
     "iopub.execute_input": "2024-01-20T19:49:46.742266Z",
     "iopub.status.busy": "2024-01-20T19:49:46.741319Z",
     "iopub.status.idle": "2024-01-20T19:49:46.936399Z",
     "shell.execute_reply": "2024-01-20T19:49:46.935351Z",
     "shell.execute_reply.started": "2024-01-20T19:49:46.742218Z"
    }
   },
   "outputs": [],
   "source": [
    "#sample selecting dataset from huge-corpus....\n",
    "train_dataset = dataset['train'].shuffle(seed=42).select(range(2871))\n",
    "test_dataset  = dataset['test'].shuffle(seed=42).select(range(133))\n",
    "val_dataset  = dataset['validation'].shuffle(seed=42).select(range(114))"
   ]
  },
  {
   "cell_type": "markdown",
   "metadata": {},
   "source": [
    "#### Use the transformers library from Hugging Face to load the GPT-2 small model and tokenizer. "
   ]
  },
  {
   "cell_type": "code",
   "execution_count": 6,
   "metadata": {
    "execution": {
     "iopub.execute_input": "2024-01-20T19:49:48.779957Z",
     "iopub.status.busy": "2024-01-20T19:49:48.779513Z",
     "iopub.status.idle": "2024-01-20T19:49:53.090276Z",
     "shell.execute_reply": "2024-01-20T19:49:53.089358Z",
     "shell.execute_reply.started": "2024-01-20T19:49:48.779922Z"
    }
   },
   "outputs": [
    {
     "data": {
      "application/vnd.jupyter.widget-view+json": {
       "model_id": "ee42b0b346144239ae14a2aa7f942a76",
       "version_major": 2,
       "version_minor": 0
      },
      "text/plain": [
       "vocab.json:   0%|          | 0.00/1.04M [00:00<?, ?B/s]"
      ]
     },
     "metadata": {},
     "output_type": "display_data"
    },
    {
     "data": {
      "application/vnd.jupyter.widget-view+json": {
       "model_id": "097eaf484c0f4193b097a8695e709d30",
       "version_major": 2,
       "version_minor": 0
      },
      "text/plain": [
       "merges.txt:   0%|          | 0.00/456k [00:00<?, ?B/s]"
      ]
     },
     "metadata": {},
     "output_type": "display_data"
    },
    {
     "data": {
      "application/vnd.jupyter.widget-view+json": {
       "model_id": "cb7508a9875d446092a87bed8b66c172",
       "version_major": 2,
       "version_minor": 0
      },
      "text/plain": [
       "tokenizer.json:   0%|          | 0.00/1.36M [00:00<?, ?B/s]"
      ]
     },
     "metadata": {},
     "output_type": "display_data"
    },
    {
     "data": {
      "application/vnd.jupyter.widget-view+json": {
       "model_id": "6e1eb9a28046478bbd952519c61c1c9b",
       "version_major": 2,
       "version_minor": 0
      },
      "text/plain": [
       "config.json:   0%|          | 0.00/665 [00:00<?, ?B/s]"
      ]
     },
     "metadata": {},
     "output_type": "display_data"
    },
    {
     "data": {
      "text/plain": [
       "0"
      ]
     },
     "execution_count": 6,
     "metadata": {},
     "output_type": "execute_result"
    }
   ],
   "source": [
    "# Load GPT-2 tokenizer\n",
    "tokenizer = GPT2Tokenizer.from_pretrained(\"gpt2\")\n",
    "\n",
    "# Define a pad token and add it to the tokenizer\n",
    "pad_token = tokenizer.eos_token\n",
    "tokenizer.add_tokens([pad_token])"
   ]
  },
  {
   "cell_type": "code",
   "execution_count": 7,
   "metadata": {
    "execution": {
     "iopub.execute_input": "2024-01-20T19:50:03.082883Z",
     "iopub.status.busy": "2024-01-20T19:50:03.082526Z",
     "iopub.status.idle": "2024-01-20T19:50:03.092986Z",
     "shell.execute_reply": "2024-01-20T19:50:03.091906Z",
     "shell.execute_reply.started": "2024-01-20T19:50:03.082857Z"
    }
   },
   "outputs": [],
   "source": [
    "#method for tokenization and padding.....\n",
    "def tokenize_and_pad(data_list, max_article_length=1021, max_highlights_length=1024):\n",
    "    input_ids = []\n",
    "    output_ids = []\n",
    "    for article, highlights in zip(data_list['article'],data_list['highlights']):\n",
    "        # Tokenize and convert to indices\n",
    "        article_tokens = tokenizer.encode(article, add_special_tokens=True)\n",
    "        highlights_tokens = tokenizer.encode(highlights, add_special_tokens=True)\n",
    "\n",
    "        # Pad sequences to specified lengths\n",
    "        padded_article_tokens = torch.tensor(article_tokens + [tokenizer.convert_tokens_to_ids(pad_token)] * (max_article_length - len(article_tokens)))\n",
    "        padded_highlights_tokens = torch.tensor(highlights_tokens + [tokenizer.convert_tokens_to_ids(pad_token)] * (max_highlights_length - len(highlights_tokens)))\n",
    "\n",
    "        # Append to the tokenized_data_list only if both token lists are not empty\n",
    "        if len(article_tokens) >= 1 and len(highlights_tokens) >= 1:\n",
    "            input_ids.append(padded_article_tokens[:max_article_length])\n",
    "            output_ids.append(padded_highlights_tokens)\n",
    "\n",
    "    return input_ids,output_ids"
   ]
  },
  {
   "cell_type": "code",
   "execution_count": 8,
   "metadata": {
    "execution": {
     "iopub.execute_input": "2024-01-20T19:50:09.893498Z",
     "iopub.status.busy": "2024-01-20T19:50:09.892789Z",
     "iopub.status.idle": "2024-01-20T19:50:40.025237Z",
     "shell.execute_reply": "2024-01-20T19:50:40.024270Z",
     "shell.execute_reply.started": "2024-01-20T19:50:09.893451Z"
    }
   },
   "outputs": [
    {
     "name": "stderr",
     "output_type": "stream",
     "text": [
      "Token indices sequence length is longer than the specified maximum sequence length for this model (1093 > 1024). Running this sequence through the model will result in indexing errors\n"
     ]
    }
   ],
   "source": [
    "#generating tokens and creating dataset......\n",
    "train_input_ids,train_output_ids = tokenize_and_pad(train_dataset)\n",
    "test_input_ids,test_output_ids = tokenize_and_pad(test_dataset)\n",
    "valid_input_ids,valid_output_ids = tokenize_and_pad(val_dataset)"
   ]
  },
  {
   "cell_type": "code",
   "execution_count": 9,
   "metadata": {
    "execution": {
     "iopub.execute_input": "2024-01-20T19:50:40.027260Z",
     "iopub.status.busy": "2024-01-20T19:50:40.026909Z",
     "iopub.status.idle": "2024-01-20T19:50:40.032304Z",
     "shell.execute_reply": "2024-01-20T19:50:40.031401Z",
     "shell.execute_reply.started": "2024-01-20T19:50:40.027225Z"
    }
   },
   "outputs": [],
   "source": [
    "#validing if there any 0-dim vectos....\n",
    "def check_shape(ids,shape):\n",
    "    for i in ids:\n",
    "        if i.shape[0]!=shape:\n",
    "            return False\n",
    "    return True"
   ]
  },
  {
   "cell_type": "code",
   "execution_count": 10,
   "metadata": {
    "execution": {
     "iopub.execute_input": "2024-01-20T19:50:48.618029Z",
     "iopub.status.busy": "2024-01-20T19:50:48.617652Z",
     "iopub.status.idle": "2024-01-20T19:50:48.625196Z",
     "shell.execute_reply": "2024-01-20T19:50:48.624201Z",
     "shell.execute_reply.started": "2024-01-20T19:50:48.617999Z"
    }
   },
   "outputs": [
    {
     "data": {
      "text/plain": [
       "(True, True, True, True)"
      ]
     },
     "execution_count": 10,
     "metadata": {},
     "output_type": "execute_result"
    }
   ],
   "source": [
    "#validing if there any 0-dim vectos....\n",
    "check_shape(valid_input_ids,1021),check_shape(valid_output_ids,1024),check_shape(test_input_ids,1021),check_shape(test_output_ids,1024)"
   ]
  },
  {
   "cell_type": "markdown",
   "metadata": {},
   "source": [
    "# Architecture\n",
    "#### Modify the GPT-2 model to accept the soft prompt embeddings and concatenate them at the beginning of the input sequence."
   ]
  },
  {
   "cell_type": "code",
   "execution_count": 28,
   "metadata": {
    "execution": {
     "iopub.execute_input": "2024-01-20T20:44:40.703969Z",
     "iopub.status.busy": "2024-01-20T20:44:40.703151Z",
     "iopub.status.idle": "2024-01-20T20:44:42.003494Z",
     "shell.execute_reply": "2024-01-20T20:44:42.002724Z",
     "shell.execute_reply.started": "2024-01-20T20:44:40.703935Z"
    }
   },
   "outputs": [],
   "source": [
    "# Load GPT-2 model and tokenizer\n",
    "model_name = \"gpt2\"\n",
    "gpt2_model = GPT2LMHeadModel.from_pretrained(model_name)\n",
    "\n",
    "# Define the number of prompts and embedding size\n",
    "num_prompts = 3  # \"summarize the following text\"\n",
    "embedding_size = 768\n",
    "\n",
    "# Define a specific sentence\n",
    "prompt = \"summarize\"\n",
    "# sum + are + rise\n",
    "# Tokenize the sentence\n",
    "input_ids = tokenizer.encode(prompt, return_tensors='pt')\n",
    "\n",
    "# Get the embeddings for the input_ids from the GPT-2 model\n",
    "gpt2_embeddings = gpt2_model.transformer.wte(input_ids)\n",
    "\n",
    "# Create an embedding layer for soft prompts and initialize with the sentence embeddings\n",
    "soft_prompt_embeddings = nn.Embedding(num_prompts, embedding_size)\n",
    "soft_prompt_embeddings.weight.data.copy_(gpt2_embeddings.squeeze(0))\n",
    "\n",
    "# Concatenate soft prompt embeddings at the beginning of the input sequence\n",
    "class GPT2WithPromptTuning(nn.Module):\n",
    "    def __init__(self, gpt2_model, soft_prompt_embeddings):\n",
    "        super(GPT2WithPromptTuning, self).__init__()\n",
    "        self.gpt2_model = gpt2_model\n",
    "        self.soft_prompt_embeddings = soft_prompt_embeddings\n",
    "    \n",
    "    def forward(self, input_ids, soft_prompt_ids):\n",
    "        # Get the embeddings for the input_ids from the GPT-2 model\n",
    "        gpt2_embeddings = self.gpt2_model.transformer.wte(input_ids)\n",
    "        # Get the embeddings for the soft prompts\n",
    "        soft_prompt_embeds = self.soft_prompt_embeddings(soft_prompt_ids)\n",
    "        \n",
    "        # Concatenate the embeddings\n",
    "        embeddings = torch.cat([soft_prompt_embeds, gpt2_embeddings], dim=0)\n",
    "        \n",
    "        # Pass the concatenated embeddings through the GPT-2 model\n",
    "        outputs = self.gpt2_model(inputs_embeds=embeddings)\n",
    "        \n",
    "        return outputs"
   ]
  },
  {
   "cell_type": "markdown",
   "metadata": {},
   "source": [
    "# Fine-tuning Architecture and Hyperparameters \n",
    "### For the fine-tuning process, consider the following architecture and hyperparameters:\n",
    "- Batch Size: Can be anything. If facing memory constraints, consider using\n",
    "gradient accumulation as a strategy to effectively increase the batch size\n",
    "without requiring additional memory.\n",
    "- Epochs: Train for up to 10 epochs for each task, but consider early stopping\n",
    "based on validation loss to prevent overfitting.\n",
    "- Gradient Clipping: Clip gradients with a norm of 1.0 to prevent exploding\n",
    "gradients. \n",
    "- During training, prepend the soft prompt tokens to your input sequences and backpropagate only through the soft prompt embeddings, keeping the GPT2 parameters frozen. "
   ]
  },
  {
   "cell_type": "code",
   "execution_count": 29,
   "metadata": {
    "execution": {
     "iopub.execute_input": "2024-01-20T20:44:44.559707Z",
     "iopub.status.busy": "2024-01-20T20:44:44.559254Z",
     "iopub.status.idle": "2024-01-20T20:44:44.567104Z",
     "shell.execute_reply": "2024-01-20T20:44:44.566131Z",
     "shell.execute_reply.started": "2024-01-20T20:44:44.559664Z"
    }
   },
   "outputs": [],
   "source": [
    "# Initialize the model\n",
    "model = GPT2WithPromptTuning(gpt2_model, soft_prompt_embeddings)\n",
    "\n",
    "# Freeze GPT-2 model weights\n",
    "for param in model.gpt2_model.parameters():\n",
    "    param.requires_grad = False\n",
    "\n",
    "# Define hyperparameters\n",
    "epochs = 10\n",
    "learning_rate = 2e-5\n",
    "gradient_clip_value = 1.0\n",
    "\n",
    "# Define optimizer and criterion\n",
    "optimizer = torch.optim.AdamW(model.soft_prompt_embeddings.parameters(), lr=learning_rate)\n",
    "criterion = nn.CrossEntropyLoss(ignore_index=50256)\n",
    "\n",
    "#soft_prompt....\n",
    "soft_prompt_ids = torch.tensor([0, 1, 2])\n"
   ]
  },
  {
   "cell_type": "markdown",
   "metadata": {},
   "source": [
    "## Training "
   ]
  },
  {
   "cell_type": "code",
   "execution_count": 31,
   "metadata": {
    "execution": {
     "iopub.execute_input": "2024-01-20T20:47:49.895000Z",
     "iopub.status.busy": "2024-01-20T20:47:49.893827Z",
     "iopub.status.idle": "2024-01-20T22:01:33.179648Z",
     "shell.execute_reply": "2024-01-20T22:01:33.178399Z",
     "shell.execute_reply.started": "2024-01-20T20:47:49.894955Z"
    }
   },
   "outputs": [
    {
     "name": "stderr",
     "output_type": "stream",
     "text": [
      "\u001b[34m\u001b[1mwandb\u001b[0m: Currently logged in as: \u001b[33mgouse_73\u001b[0m. Use \u001b[1m`wandb login --relogin`\u001b[0m to force relogin\n"
     ]
    },
    {
     "data": {
      "text/html": [
       "Tracking run with wandb version 0.16.2"
      ],
      "text/plain": [
       "<IPython.core.display.HTML object>"
      ]
     },
     "metadata": {},
     "output_type": "display_data"
    },
    {
     "data": {
      "text/html": [
       "Run data is saved locally in <code>/kaggle/working/wandb/run-20240120_204750-6i09rthh</code>"
      ],
      "text/plain": [
       "<IPython.core.display.HTML object>"
      ]
     },
     "metadata": {},
     "output_type": "display_data"
    },
    {
     "data": {
      "text/html": [
       "Syncing run <strong><a href='https://wandb.ai/gouse_73/SoftPrompt%20on%20GPT-2%20for%20Summarization/runs/6i09rthh' target=\"_blank\">SoftPrompting</a></strong> to <a href='https://wandb.ai/gouse_73/SoftPrompt%20on%20GPT-2%20for%20Summarization' target=\"_blank\">Weights & Biases</a> (<a href='https://wandb.me/run' target=\"_blank\">docs</a>)<br/>"
      ],
      "text/plain": [
       "<IPython.core.display.HTML object>"
      ]
     },
     "metadata": {},
     "output_type": "display_data"
    },
    {
     "data": {
      "text/html": [
       " View project at <a href='https://wandb.ai/gouse_73/SoftPrompt%20on%20GPT-2%20for%20Summarization' target=\"_blank\">https://wandb.ai/gouse_73/SoftPrompt%20on%20GPT-2%20for%20Summarization</a>"
      ],
      "text/plain": [
       "<IPython.core.display.HTML object>"
      ]
     },
     "metadata": {},
     "output_type": "display_data"
    },
    {
     "data": {
      "text/html": [
       " View run at <a href='https://wandb.ai/gouse_73/SoftPrompt%20on%20GPT-2%20for%20Summarization/runs/6i09rthh' target=\"_blank\">https://wandb.ai/gouse_73/SoftPrompt%20on%20GPT-2%20for%20Summarization/runs/6i09rthh</a>"
      ],
      "text/plain": [
       "<IPython.core.display.HTML object>"
      ]
     },
     "metadata": {},
     "output_type": "display_data"
    },
    {
     "name": "stderr",
     "output_type": "stream",
     "text": [
      "Epoch 1:   0%|          | 0/2871 [00:00<?, ?it/s]/opt/conda/lib/python3.10/site-packages/nltk/translate/bleu_score.py:490: UserWarning: \n",
      "Corpus/Sentence contains 0 counts of 4-gram overlaps.\n",
      "BLEU scores might be undesirable; use SmoothingFunction().\n",
      "  warnings.warn(_msg)\n",
      "Epoch 1:   0%|          | 1/2871 [00:00<07:37,  6.27it/s, Training Loss=11.5]/opt/conda/lib/python3.10/site-packages/nltk/translate/bleu_score.py:490: UserWarning: \n",
      "Corpus/Sentence contains 0 counts of 3-gram overlaps.\n",
      "BLEU scores might be undesirable; use SmoothingFunction().\n",
      "  warnings.warn(_msg)\n",
      "Epoch 1:   5%|▍         | 131/2871 [00:19<06:52,  6.65it/s, Training Loss=10.5]/opt/conda/lib/python3.10/site-packages/nltk/translate/bleu_score.py:490: UserWarning: \n",
      "Corpus/Sentence contains 0 counts of 2-gram overlaps.\n",
      "BLEU scores might be undesirable; use SmoothingFunction().\n",
      "  warnings.warn(_msg)\n",
      "Epoch 1: 100%|██████████| 2871/2871 [07:12<00:00,  6.64it/s, Training Loss=11.2]\n",
      "Epoch 2: 100%|██████████| 2871/2871 [07:12<00:00,  6.65it/s, Training Loss=10.9]\n",
      "Epoch 3: 100%|██████████| 2871/2871 [07:12<00:00,  6.65it/s, Training Loss=10.6]\n",
      "Epoch 4: 100%|██████████| 2871/2871 [07:11<00:00,  6.65it/s, Training Loss=10.8]\n",
      "Epoch 5: 100%|██████████| 2871/2871 [07:11<00:00,  6.65it/s, Training Loss=8.47]\n",
      "Epoch 6: 100%|██████████| 2871/2871 [07:11<00:00,  6.65it/s, Training Loss=8.07]\n",
      "Epoch 7: 100%|██████████| 2871/2871 [07:11<00:00,  6.65it/s, Training Loss=8.21]\n",
      "Epoch 8: 100%|██████████| 2871/2871 [07:12<00:00,  6.64it/s, Training Loss=6.75]\n",
      "Epoch 9: 100%|██████████| 2871/2871 [07:11<00:00,  6.66it/s, Training Loss=8.29]\n",
      "Epoch 10: 100%|██████████| 2871/2871 [07:10<00:00,  6.66it/s, Training Loss=6.32]\n"
     ]
    }
   ],
   "source": [
    "device = torch.device(\"cuda\" if torch.cuda.is_available() else \"cpu\")\n",
    "\n",
    "# Move model to GPU\n",
    "model.to(device)\n",
    "\n",
    "# Define device (assuming you have a CUDA-enabled GPU)\n",
    "\n",
    "# Move optimizer and criterion to GPU\n",
    "optimizer = torch.optim.AdamW(model.soft_prompt_embeddings.parameters(), lr=learning_rate)\n",
    "criterion = nn.CrossEntropyLoss(ignore_index=-100).to(device)\n",
    "\n",
    "# Initialize Weights and Biases\n",
    "wandb.init(project='SoftPrompt on GPT-2 for Summarization', name = \"SoftPrompting\", config={'learning_rate': learning_rate})\n",
    "model.train()\n",
    "# Training loop\n",
    "for epoch in range(epochs):\n",
    "    # Create a tqdm progress bar for the training data\n",
    "    data_iterator = tqdm(zip(train_input_ids,train_output_ids), desc=f'Epoch {epoch + 1}', total=len(train_input_ids))\n",
    "    train_blu = []\n",
    "    for input_ids, target_ids in data_iterator:\n",
    "        optimizer.zero_grad()\n",
    "\n",
    "        # Move input and target tensors to GPU\n",
    "        input_ids, target_ids = input_ids.to(device), target_ids.to(device)\n",
    "        \n",
    "        # Assuming you have a soft_prompt_ids for each training instance\n",
    "        # If not, you might need to modify this part accordingly\n",
    "        outputs = model(input_ids, soft_prompt_ids.to(device))\n",
    "        logits = outputs.logits if hasattr(outputs, \"logits\") else outputs.last_hidden_state\n",
    "\n",
    "        loss = criterion(logits, target_ids) \n",
    "        loss.backward()\n",
    "        \n",
    "        predictions = logits.argmax(dim=-1).squeeze(0).tolist()\n",
    "        references = target_ids.squeeze(0).tolist()\n",
    "        \n",
    "        # BLEU Score\n",
    "        tr_blu = sentence_bleu([references], predictions)\n",
    "        train_blu.append(tr_blu)\n",
    "        # Gradient clipping to prevent exploding gradients\n",
    "        torch.nn.utils.clip_grad_norm_(model.parameters(), gradient_clip_value)\n",
    "        \n",
    "        optimizer.step()\n",
    "\n",
    "        # Update the progress bar description with the current loss\n",
    "        data_iterator.set_postfix({'Training Loss' : loss.item()})\n",
    "    \n",
    "#     # Validation loop\n",
    "    model.eval()\n",
    "    val_losses = []\n",
    "    bleu_score = []\n",
    "    with torch.no_grad():\n",
    "        for input_ids_val, target_ids_val in zip(valid_input_ids,valid_output_ids):\n",
    "            input_ids_val, target_ids_val = input_ids_val.to(device), target_ids_val.to(device)\n",
    "            outputs_val = model(input_ids_val, soft_prompt_ids.to(device))\n",
    "            logits_val = outputs_val.logits if hasattr(outputs_val, \"logits\") else outputs_val.last_hidden_state\n",
    "            loss_val = criterion(logits_val, target_ids_val)\n",
    "            val_losses.append(loss_val.item())\n",
    "            # Convert tensor predictions and references to lists\n",
    "            predictions = logits_val.argmax(dim=-1).squeeze(0).tolist()\n",
    "            references = target_ids_val.squeeze(0).tolist()\n",
    "\n",
    "            # BLEU Score\n",
    "            blu = sentence_bleu([references], predictions)\n",
    "            bleu_score.append(blu)\n",
    "    avg_val_loss = sum(val_losses) / len(val_losses)\n",
    "    avg_val_bl   = sum(bleu_score) / len(bleu_score)\n",
    "    avg_tr_bl    = sum(train_blu) / len(train_blu)\n",
    "    \n",
    "    data_iterator.set_postfix({\"Validation Loss\" : avg_val_loss})\n",
    "    wandb.log({\"epoch\": epoch + 1, \"train_loss\": loss.item(), \"train_bleu\" : avg_tr_bl ,\"val_loss\": avg_val_loss,\"val_bleu_score\" : avg_val_bl})\n",
    "\n",
    "    # Set the model back to training mode\n",
    "    model.train()\n",
    "\n",
    "# Close the tqdm progress bar\n",
    "data_iterator.close()"
   ]
  },
  {
   "cell_type": "markdown",
   "metadata": {},
   "source": [
    "# Evaluation \n",
    "- Evaluate the performance of your fine-tuned model on each task using appropriate metrics. \n",
    "- Bleu Score\n",
    "- Training and Validation loss "
   ]
  },
  {
   "cell_type": "code",
   "execution_count": 32,
   "metadata": {
    "execution": {
     "iopub.execute_input": "2024-01-20T22:01:42.083960Z",
     "iopub.status.busy": "2024-01-20T22:01:42.083607Z",
     "iopub.status.idle": "2024-01-20T22:01:50.292127Z",
     "shell.execute_reply": "2024-01-20T22:01:50.291420Z",
     "shell.execute_reply.started": "2024-01-20T22:01:42.083931Z"
    }
   },
   "outputs": [
    {
     "data": {
      "application/vnd.jupyter.widget-view+json": {
       "model_id": "",
       "version_major": 2,
       "version_minor": 0
      },
      "text/plain": [
       "VBox(children=(Label(value='0.001 MB of 0.001 MB uploaded\\r'), FloatProgress(value=1.0, max=1.0)))"
      ]
     },
     "metadata": {},
     "output_type": "display_data"
    },
    {
     "data": {
      "text/html": [
       "<style>\n",
       "    table.wandb td:nth-child(1) { padding: 0 10px; text-align: left ; width: auto;} td:nth-child(2) {text-align: left ; width: 100%}\n",
       "    .wandb-row { display: flex; flex-direction: row; flex-wrap: wrap; justify-content: flex-start; width: 100% }\n",
       "    .wandb-col { display: flex; flex-direction: column; flex-basis: 100%; flex: 1; padding: 10px; }\n",
       "    </style>\n",
       "<div class=\"wandb-row\"><div class=\"wandb-col\"><h3>Run history:</h3><br/><table class=\"wandb\"><tr><td>epoch</td><td>▁▂▃▃▄▅▆▆▇█</td></tr><tr><td>train_bleu</td><td>▁▁▁▂▃▃▃▃▅█</td></tr><tr><td>train_loss</td><td>██▇▇▄▃▄▂▄▁</td></tr><tr><td>val_bleu_score</td><td>▁▁▁▁▁▁▂▄▂█</td></tr><tr><td>val_loss</td><td>██▇▆▅▄▃▃▃▁</td></tr></table><br/></div><div class=\"wandb-col\"><h3>Run summary:</h3><br/><table class=\"wandb\"><tr><td>epoch</td><td>10</td></tr><tr><td>train_bleu</td><td>0.18435</td></tr><tr><td>train_loss</td><td>6.32068</td></tr><tr><td>val_bleu_score</td><td>0.45647</td></tr><tr><td>val_loss</td><td>6.3504</td></tr></table><br/></div></div>"
      ],
      "text/plain": [
       "<IPython.core.display.HTML object>"
      ]
     },
     "metadata": {},
     "output_type": "display_data"
    },
    {
     "data": {
      "text/html": [
       " View run <strong style=\"color:#cdcd00\">SoftPrompting</strong> at: <a href='https://wandb.ai/gouse_73/SoftPrompt%20on%20GPT-2%20for%20Summarization/runs/6i09rthh' target=\"_blank\">https://wandb.ai/gouse_73/SoftPrompt%20on%20GPT-2%20for%20Summarization/runs/6i09rthh</a><br/>Synced 6 W&B file(s), 0 media file(s), 0 artifact file(s) and 0 other file(s)"
      ],
      "text/plain": [
       "<IPython.core.display.HTML object>"
      ]
     },
     "metadata": {},
     "output_type": "display_data"
    },
    {
     "data": {
      "text/html": [
       "Find logs at: <code>./wandb/run-20240120_204750-6i09rthh/logs</code>"
      ],
      "text/plain": [
       "<IPython.core.display.HTML object>"
      ]
     },
     "metadata": {},
     "output_type": "display_data"
    }
   ],
   "source": [
    "wandb.finish()"
   ]
  },
  {
   "cell_type": "markdown",
   "metadata": {},
   "source": [
    "### Legends\n",
    "Orange -- Training BLEU Score, Blue -- Validation BLEU Score\n"
   ]
  },
  {
   "attachments": {
    "SoftPrompt-Summarization-BLEU.png": {
     "image/png": "[encoded data removed]"
    }
   },
   "cell_type": "markdown",
   "metadata": {},
   "source": [
    "![SoftPrompt-Summarization-BLEU.png](attachment:SoftPrompt-Summarization-BLEU.png)"
   ]
  },
  {
   "attachments": {
    "image.png": {
     "image/png": "[encoded data removed]"
    }
   },
   "cell_type": "markdown",
   "metadata": {},
   "source": [
    "![image.png](attachment:image.png)"
   ]
  },
  {
   "cell_type": "markdown",
   "metadata": {},
   "source": [
    "### Concept of Soft Prompts: \n",
    "####  How does the introduction of ”soft prompts” address the limitations of discrete text prompts in large language models? Why might soft prompts be considered a more flexible and efficient approach for task-specific conditioning? \n",
    "- Soft prompts are a novel approach to prompt engineering that involves incorporating vectors into an input sequence and then fine-tuning these vectors while keeping the rest of the pre-trained model’s components unchanged\n",
    "- Unlike traditional human-readable prompts, which provide clear instructions expressed in human languages, soft prompts involve incorporating vectors that are very much abstract and random. Therefore, even though these vectors guide the model’s behavior, their non-linguistic nature makes it very hard for humans to understand them.\n",
    "- Soft prompts are considered a more flexible and efficient approach for task-specific conditioning because they allow for more fine-grained control over the model’s behavior and can be adapted to a wide range of tasks 1.\n",
    "\n",
    "### Scaling and Efficiency in Prompt Tuning:\n",
    "#### How does the efficiency of prompt tuning relate to the scale of the language model? Discuss the implications of this relationship for future developments in large-scale language models and their adaptability to specific tasks?\n",
    "- The efficiency of prompt tuning is directly related to the scale of the language model. As the size of the model increases, prompt tuning becomes more competitive with model tuning \n",
    "- In other words, larger models can be more efficiently fine-tuned using soft prompts than smaller models. This has important implications for future developments in large-scale language models and their adaptability to specific tasks. By leveraging the power of scale, prompt tuning can help to improve the performance of machine learning models without requiring extensive reprogramming or retraining \n",
    "- However, it is important to find the right balance between model size and prompt tuning performance, as scaling affects prompt tuning like a tailored suit—too loose, and it won’t hold; too tight, and it restricts movement"
   ]
  },
  {
   "cell_type": "markdown",
   "metadata": {},
   "source": []
  }
 ],
 "metadata": {
  "kaggle": {
   "accelerator": "gpu",
   "dataSources": [],
   "dockerImageVersionId": 30636,
   "isGpuEnabled": true,
   "isInternetEnabled": true,
   "language": "python",
   "sourceType": "notebook"
  },
  "kernelspec": {
   "display_name": "Python 3 (ipykernel)",
   "language": "python",
   "name": "python3"
  },
  "language_info": {
   "codemirror_mode": {
    "name": "ipython",
    "version": 3
   },
   "file_extension": ".py",
   "mimetype": "text/x-python",
   "name": "python",
   "nbconvert_exporter": "python",
   "pygments_lexer": "ipython3",
   "version": "3.9.12"
  }
 },
 "nbformat": 4,
 "nbformat_minor": 4
}
