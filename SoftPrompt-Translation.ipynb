{
 "cells": [
  {
   "cell_type": "markdown",
   "metadata": {},
   "source": [
    "__Group Name__ : __Data Dynamo__\n",
    "1. Roy, Abhijith; `abhijithroy.roy@carelon.com`,\n",
    "2. Acharya, Ananth; `ananth.acharya@carelon.com`; \n",
    "3. Kumar, Diwakar; `diwakar.kumar@carelon.com`; \n",
    "4. Gouse, Mohammad; `mohammad.gouse@carelon.com`;\n",
    "5. Peketi, Santhosh; `santhosh.peketi@carelon.com`, "
   ]
  },
  {
   "cell_type": "markdown",
   "metadata": {},
   "source": [
    "# Soft Prompting using GPT-2 on Machine Translation (EN->DE)"
   ]
  },
  {
   "cell_type": "markdown",
   "metadata": {},
   "source": [
    "### Questions\n",
    "__1. Concept of Soft Prompts__: <br>\n",
    "How does the introduction of ”soft prompts” address the limitations of discrete \n",
    "text prompts in large language models? Why might soft prompts be \n",
    "considered a more flexible and efficient approach for task-specific \n",
    "conditioning? <br> <br>\n",
    "__2. Scaling and Efficiency in Prompt Tuning__: <br>\n",
    "How does the efficiency of prompt tuning relate to the scale of the language \n",
    "model? Discuss the implications of this relationship for future developments\n",
    "in large-scale language models and their adaptability to specific tasks."
   ]
  },
  {
   "cell_type": "markdown",
   "metadata": {},
   "source": [
    "### Answers : \n",
    "__1. Concept of Soft Prompts__ <br>\n",
    "- Soft prompts are a novel approach to prompt engineering that involves incorporating vectors into an input sequence and then fine-tuning these vectors while keeping the rest of the pre-trained model’s components unchanged\n",
    "- Unlike traditional human-readable prompts, which provide clear instructions expressed in human languages, soft prompts involve incorporating vectors that are very much abstract and random. Therefore, even though these vectors guide the model’s behavior, their non-linguistic nature makes it very hard for humans to understand them.\n",
    "- Soft prompts are considered a more flexible and efficient approach for task-specific conditioning because they allow for more fine-grained control over the model’s behavior and can be adapted to a wide range of tasks 1."
   ]
  },
  {
   "cell_type": "markdown",
   "metadata": {},
   "source": [
    "__2. Scaling and Efficiency in Prompt Tuning__ <br>\n",
    "- The efficiency of prompt tuning is directly related to the scale of the language model. As the size of the model increases, prompt tuning becomes more competitive with model tuning\n",
    "- In other words, larger models can be more efficiently fine-tuned using soft prompts than smaller models. This has important implications for future developments in large-scale language models and their adaptability to specific tasks. By leveraging the power of scale, prompt tuning can help to improve the performance of machine learning models without requiring extensive reprogramming or retraining\n",
    "- However, it is important to find the right balance between model size and prompt tuning performance, as scaling affects prompt tuning like a tailored suit—too loose, and it won’t hold; too tight, and it restricts movement"
   ]
  },
  {
   "cell_type": "markdown",
   "metadata": {},
   "source": [
    "## Loading required packages and importing GPT2 model through torch"
   ]
  },
  {
   "cell_type": "code",
   "execution_count": 1,
   "metadata": {
    "execution": {
     "iopub.execute_input": "2024-01-21T09:38:26.678629Z",
     "iopub.status.busy": "2024-01-21T09:38:26.678362Z",
     "iopub.status.idle": "2024-01-21T09:38:35.543907Z",
     "shell.execute_reply": "2024-01-21T09:38:35.543131Z",
     "shell.execute_reply.started": "2024-01-21T09:38:26.678605Z"
    }
   },
   "outputs": [
    {
     "name": "stderr",
     "output_type": "stream",
     "text": [
      "/opt/conda/lib/python3.10/site-packages/scipy/__init__.py:146: UserWarning: A NumPy version >=1.16.5 and <1.23.0 is required for this version of SciPy (detected version 1.24.3\n",
      "  warnings.warn(f\"A NumPy version >={np_minversion} and <{np_maxversion}\"\n"
     ]
    }
   ],
   "source": [
    "#importing required libraries for the task.....\n",
    "import numpy as np \n",
    "import pandas as pd \n",
    "from sklearn.model_selection import train_test_split\n",
    "import nltk\n",
    "from nltk.translate.bleu_score import sentence_bleu\n",
    "\n",
    "import torch\n",
    "import torch.nn as nn\n",
    "from torch.utils.data import DataLoader\n",
    "from transformers import GPT2LMHeadModel, GPT2Tokenizer,AdamW\n",
    "from torch.nn.utils.rnn import pad_sequence\n",
    "from datasets import load_dataset\n",
    "from tqdm import tqdm\n",
    "import wandb"
   ]
  },
  {
   "cell_type": "code",
   "execution_count": 2,
   "metadata": {
    "execution": {
     "iopub.execute_input": "2024-01-21T09:39:15.338130Z",
     "iopub.status.busy": "2024-01-21T09:39:15.337180Z",
     "iopub.status.idle": "2024-01-21T09:39:15.342161Z",
     "shell.execute_reply": "2024-01-21T09:39:15.341214Z",
     "shell.execute_reply.started": "2024-01-21T09:39:15.338095Z"
    }
   },
   "outputs": [],
   "source": [
    "np.object = object"
   ]
  },
  {
   "cell_type": "markdown",
   "metadata": {},
   "source": [
    "## Loading the Dataset - Europarl-ST"
   ]
  },
  {
   "cell_type": "code",
   "execution_count": 3,
   "metadata": {
    "execution": {
     "iopub.execute_input": "2024-01-21T09:39:21.121103Z",
     "iopub.status.busy": "2024-01-21T09:39:21.120082Z",
     "iopub.status.idle": "2024-01-21T09:39:35.436744Z",
     "shell.execute_reply": "2024-01-21T09:39:35.435892Z",
     "shell.execute_reply.started": "2024-01-21T09:39:21.121058Z"
    }
   },
   "outputs": [],
   "source": [
    "#reading dataset from csv file......\n",
    "dataset = pd.read_csv('/kaggle/input/europarl-english-german/Europarl_en-de.csv')"
   ]
  },
  {
   "cell_type": "markdown",
   "metadata": {},
   "source": [
    "## Exploratory Data Analysis with Preprocessing of the dataset"
   ]
  },
  {
   "cell_type": "code",
   "execution_count": 4,
   "metadata": {
    "execution": {
     "iopub.execute_input": "2024-01-21T09:39:35.438784Z",
     "iopub.status.busy": "2024-01-21T09:39:35.438446Z",
     "iopub.status.idle": "2024-01-21T09:39:35.458247Z",
     "shell.execute_reply": "2024-01-21T09:39:35.457148Z",
     "shell.execute_reply.started": "2024-01-21T09:39:35.438757Z"
    }
   },
   "outputs": [
    {
     "data": {
      "text/html": [
       "<div>\n",
       "<style scoped>\n",
       "    .dataframe tbody tr th:only-of-type {\n",
       "        vertical-align: middle;\n",
       "    }\n",
       "\n",
       "    .dataframe tbody tr th {\n",
       "        vertical-align: top;\n",
       "    }\n",
       "\n",
       "    .dataframe thead th {\n",
       "        text-align: right;\n",
       "    }\n",
       "</style>\n",
       "<table border=\"1\" class=\"dataframe\">\n",
       "  <thead>\n",
       "    <tr style=\"text-align: right;\">\n",
       "      <th></th>\n",
       "      <th>English</th>\n",
       "      <th>German</th>\n",
       "    </tr>\n",
       "  </thead>\n",
       "  <tbody>\n",
       "    <tr>\n",
       "      <th>0</th>\n",
       "      <td>Resumption of the session</td>\n",
       "      <td>Wiederaufnahme der Sitzungsperiode</td>\n",
       "    </tr>\n",
       "    <tr>\n",
       "      <th>1</th>\n",
       "      <td>I declare resumed the session of the European ...</td>\n",
       "      <td>Ich erkläre die am Freitag, dem 17. Dezember u...</td>\n",
       "    </tr>\n",
       "    <tr>\n",
       "      <th>2</th>\n",
       "      <td>Although, as you will have seen, the dreaded '...</td>\n",
       "      <td>Wie Sie feststellen konnten, ist der gefürchte...</td>\n",
       "    </tr>\n",
       "  </tbody>\n",
       "</table>\n",
       "</div>"
      ],
      "text/plain": [
       "                                             English  \\\n",
       "0                          Resumption of the session   \n",
       "1  I declare resumed the session of the European ...   \n",
       "2  Although, as you will have seen, the dreaded '...   \n",
       "\n",
       "                                              German  \n",
       "0                 Wiederaufnahme der Sitzungsperiode  \n",
       "1  Ich erkläre die am Freitag, dem 17. Dezember u...  \n",
       "2  Wie Sie feststellen konnten, ist der gefürchte...  "
      ]
     },
     "execution_count": 4,
     "metadata": {},
     "output_type": "execute_result"
    }
   ],
   "source": [
    "#sample view of dataset.....\n",
    "dataset.head(3)"
   ]
  },
  {
   "cell_type": "code",
   "execution_count": 5,
   "metadata": {
    "execution": {
     "iopub.execute_input": "2024-01-21T09:39:35.459720Z",
     "iopub.status.busy": "2024-01-21T09:39:35.459407Z",
     "iopub.status.idle": "2024-01-21T09:39:36.047621Z",
     "shell.execute_reply": "2024-01-21T09:39:36.046600Z",
     "shell.execute_reply.started": "2024-01-21T09:39:35.459694Z"
    }
   },
   "outputs": [],
   "source": [
    "#removing nulls.....\n",
    "dataset = dataset.dropna()"
   ]
  },
  {
   "cell_type": "code",
   "execution_count": 6,
   "metadata": {
    "execution": {
     "iopub.execute_input": "2024-01-21T09:39:36.050322Z",
     "iopub.status.busy": "2024-01-21T09:39:36.049970Z",
     "iopub.status.idle": "2024-01-21T09:39:36.055470Z",
     "shell.execute_reply": "2024-01-21T09:39:36.054577Z",
     "shell.execute_reply.started": "2024-01-21T09:39:36.050296Z"
    }
   },
   "outputs": [
    {
     "name": "stdout",
     "output_type": "stream",
     "text": [
      "Number of Samples in dataset : 1908920\n"
     ]
    }
   ],
   "source": [
    "#Total number of samples in dataset....\n",
    "print(f\"Number of Samples in dataset : {len(dataset)}\")"
   ]
  },
  {
   "cell_type": "code",
   "execution_count": 7,
   "metadata": {
    "execution": {
     "iopub.execute_input": "2024-01-21T09:39:36.056941Z",
     "iopub.status.busy": "2024-01-21T09:39:36.056598Z",
     "iopub.status.idle": "2024-01-21T09:39:36.111275Z",
     "shell.execute_reply": "2024-01-21T09:39:36.110501Z",
     "shell.execute_reply.started": "2024-01-21T09:39:36.056910Z"
    }
   },
   "outputs": [],
   "source": [
    "#sampling dataset with .2% of whole data for model training and validation....\n",
    "sample_df = dataset.sample(frac=.002,random_state=42)"
   ]
  },
  {
   "cell_type": "code",
   "execution_count": 8,
   "metadata": {
    "execution": {
     "iopub.execute_input": "2024-01-21T09:39:36.112661Z",
     "iopub.status.busy": "2024-01-21T09:39:36.112371Z",
     "iopub.status.idle": "2024-01-21T09:39:36.122173Z",
     "shell.execute_reply": "2024-01-21T09:39:36.121017Z",
     "shell.execute_reply.started": "2024-01-21T09:39:36.112627Z"
    }
   },
   "outputs": [
    {
     "data": {
      "text/html": [
       "<div>\n",
       "<style scoped>\n",
       "    .dataframe tbody tr th:only-of-type {\n",
       "        vertical-align: middle;\n",
       "    }\n",
       "\n",
       "    .dataframe tbody tr th {\n",
       "        vertical-align: top;\n",
       "    }\n",
       "\n",
       "    .dataframe thead th {\n",
       "        text-align: right;\n",
       "    }\n",
       "</style>\n",
       "<table border=\"1\" class=\"dataframe\">\n",
       "  <thead>\n",
       "    <tr style=\"text-align: right;\">\n",
       "      <th></th>\n",
       "      <th>English</th>\n",
       "      <th>German</th>\n",
       "    </tr>\n",
       "  </thead>\n",
       "  <tbody>\n",
       "    <tr>\n",
       "      <th>542843</th>\n",
       "      <td>Combined with your youth and your love of parl...</td>\n",
       "      <td>Ich denke, dass Ihr zentraler Ansatz sein müss...</td>\n",
       "    </tr>\n",
       "    <tr>\n",
       "      <th>1158425</th>\n",
       "      <td>As we all know, Portugal applied to the Europe...</td>\n",
       "      <td>Wie wir alle wissen, hat Portugal dieses Geld ...</td>\n",
       "    </tr>\n",
       "    <tr>\n",
       "      <th>640379</th>\n",
       "      <td>You are not going to finance the planes that f...</td>\n",
       "      <td>Sie weigern sich, den Flugzeugen, die zu den v...</td>\n",
       "    </tr>\n",
       "    <tr>\n",
       "      <th>576243</th>\n",
       "      <td>This means funding for projects with a depress...</td>\n",
       "      <td>Das heißt, Projekte werden mit einer restrikti...</td>\n",
       "    </tr>\n",
       "    <tr>\n",
       "      <th>603872</th>\n",
       "      <td>An improved environment will generally also ha...</td>\n",
       "      <td>Ein besseres Umfeld wird sich günstig auf die ...</td>\n",
       "    </tr>\n",
       "  </tbody>\n",
       "</table>\n",
       "</div>"
      ],
      "text/plain": [
       "                                                   English  \\\n",
       "542843   Combined with your youth and your love of parl...   \n",
       "1158425  As we all know, Portugal applied to the Europe...   \n",
       "640379   You are not going to finance the planes that f...   \n",
       "576243   This means funding for projects with a depress...   \n",
       "603872   An improved environment will generally also ha...   \n",
       "\n",
       "                                                    German  \n",
       "542843   Ich denke, dass Ihr zentraler Ansatz sein müss...  \n",
       "1158425  Wie wir alle wissen, hat Portugal dieses Geld ...  \n",
       "640379   Sie weigern sich, den Flugzeugen, die zu den v...  \n",
       "576243   Das heißt, Projekte werden mit einer restrikti...  \n",
       "603872   Ein besseres Umfeld wird sich günstig auf die ...  "
      ]
     },
     "execution_count": 8,
     "metadata": {},
     "output_type": "execute_result"
    }
   ],
   "source": [
    "#sample view of partitioned dataset.....\n",
    "sample_df.head()"
   ]
  },
  {
   "cell_type": "code",
   "execution_count": 9,
   "metadata": {
    "execution": {
     "iopub.execute_input": "2024-01-21T09:39:36.123700Z",
     "iopub.status.busy": "2024-01-21T09:39:36.123417Z",
     "iopub.status.idle": "2024-01-21T09:39:36.131537Z",
     "shell.execute_reply": "2024-01-21T09:39:36.130702Z",
     "shell.execute_reply.started": "2024-01-21T09:39:36.123676Z"
    }
   },
   "outputs": [],
   "source": [
    "#creating train test split for dataset.......\n",
    "train_df,test_df = train_test_split(sample_df,test_size=.25,random_state=42)"
   ]
  },
  {
   "cell_type": "code",
   "execution_count": 10,
   "metadata": {
    "execution": {
     "iopub.execute_input": "2024-01-21T09:39:36.133853Z",
     "iopub.status.busy": "2024-01-21T09:39:36.132806Z",
     "iopub.status.idle": "2024-01-21T09:39:36.142481Z",
     "shell.execute_reply": "2024-01-21T09:39:36.141561Z",
     "shell.execute_reply.started": "2024-01-21T09:39:36.133799Z"
    }
   },
   "outputs": [
    {
     "name": "stdout",
     "output_type": "stream",
     "text": [
      "Number of samples in train dataset : 2863\n",
      "Number of samples in test dataset : 955\n"
     ]
    }
   ],
   "source": [
    "#Number of samples in train and test set.....\n",
    "print(f\"Number of samples in train dataset : {len(train_df)}\")\n",
    "print(f\"Number of samples in test dataset : {len(test_df)}\")"
   ]
  },
  {
   "cell_type": "markdown",
   "metadata": {},
   "source": [
    "## Loading the GPT-2 Tokenizer + Defining prompt for Translation (EN->DE)"
   ]
  },
  {
   "cell_type": "code",
   "execution_count": 11,
   "metadata": {
    "execution": {
     "iopub.execute_input": "2024-01-21T09:39:36.143802Z",
     "iopub.status.busy": "2024-01-21T09:39:36.143503Z",
     "iopub.status.idle": "2024-01-21T09:39:40.770659Z",
     "shell.execute_reply": "2024-01-21T09:39:40.769685Z",
     "shell.execute_reply.started": "2024-01-21T09:39:36.143755Z"
    }
   },
   "outputs": [
    {
     "data": {
      "application/vnd.jupyter.widget-view+json": {
       "model_id": "8708142d8c8942d3b06ae48cfad0913d",
       "version_major": 2,
       "version_minor": 0
      },
      "text/plain": [
       "vocab.json:   0%|          | 0.00/1.04M [00:00<?, ?B/s]"
      ]
     },
     "metadata": {},
     "output_type": "display_data"
    },
    {
     "data": {
      "application/vnd.jupyter.widget-view+json": {
       "model_id": "32385b01d0d04f3a97de2443f6314156",
       "version_major": 2,
       "version_minor": 0
      },
      "text/plain": [
       "merges.txt:   0%|          | 0.00/456k [00:00<?, ?B/s]"
      ]
     },
     "metadata": {},
     "output_type": "display_data"
    },
    {
     "data": {
      "application/vnd.jupyter.widget-view+json": {
       "model_id": "b2e4d2933f894abcb7c176e7cac2638f",
       "version_major": 2,
       "version_minor": 0
      },
      "text/plain": [
       "tokenizer.json:   0%|          | 0.00/1.36M [00:00<?, ?B/s]"
      ]
     },
     "metadata": {},
     "output_type": "display_data"
    },
    {
     "data": {
      "application/vnd.jupyter.widget-view+json": {
       "model_id": "d901ac5a01af4f55aae4d87304b2f53e",
       "version_major": 2,
       "version_minor": 0
      },
      "text/plain": [
       "config.json:   0%|          | 0.00/665 [00:00<?, ?B/s]"
      ]
     },
     "metadata": {},
     "output_type": "display_data"
    },
    {
     "name": "stdout",
     "output_type": "stream",
     "text": [
      "Tokenized prompt : ['[', 'TR', 'AN', 'SL', 'ATE', 'ĠEN', 'ĠDE', ']']\n",
      "Number of tokens in prompt : 8\n"
     ]
    }
   ],
   "source": [
    "# Load GPT-2 tokenizer\n",
    "tokenizer = GPT2Tokenizer.from_pretrained(\"gpt2\")\n",
    "tokenizer.pad_token = tokenizer.eos_token\n",
    "#prompt tokens....\n",
    "#prompt we are going to add....\n",
    "prompt = \"[TRANSLATE EN DE]\"\n",
    "prompt_tokens = tokenizer.tokenize(prompt)\n",
    "print(f\"Tokenized prompt : {prompt_tokens}\")\n",
    "print(f\"Number of tokens in prompt : {len(prompt_tokens)}\")"
   ]
  },
  {
   "cell_type": "markdown",
   "metadata": {},
   "source": [
    "## Tokenization and Padding input and outputs"
   ]
  },
  {
   "cell_type": "code",
   "execution_count": 12,
   "metadata": {
    "execution": {
     "iopub.execute_input": "2024-01-21T09:39:44.325328Z",
     "iopub.status.busy": "2024-01-21T09:39:44.324448Z",
     "iopub.status.idle": "2024-01-21T09:39:44.332267Z",
     "shell.execute_reply": "2024-01-21T09:39:44.331105Z",
     "shell.execute_reply.started": "2024-01-21T09:39:44.325294Z"
    }
   },
   "outputs": [],
   "source": [
    "#method for tokenization and padding inputs and outputs.....\n",
    "def tokenize_pad(input_data,output_data):\n",
    "    input_ids = []\n",
    "    output_ids  = []\n",
    "    for input_,output in zip(input_data,output_data):\n",
    "        tokenized_input = tokenizer.encode(input_,padding='max_length',max_length=1016)\n",
    "        tokenized_output = tokenizer.encode(output,padding='max_length',max_length=1024)\n",
    "        \n",
    "        if len(tokenized_input) >=1 and len(tokenized_output) >= 1:\n",
    "            input_ids.append(torch.tensor(tokenized_input[:1016]))\n",
    "            output_ids.append(torch.tensor(tokenized_output[:1024]))\n",
    "            \n",
    "    return input_ids,output_ids"
   ]
  },
  {
   "cell_type": "code",
   "execution_count": 13,
   "metadata": {
    "execution": {
     "iopub.execute_input": "2024-01-21T09:39:46.814151Z",
     "iopub.status.busy": "2024-01-21T09:39:46.813777Z",
     "iopub.status.idle": "2024-01-21T09:39:53.986747Z",
     "shell.execute_reply": "2024-01-21T09:39:53.985703Z",
     "shell.execute_reply.started": "2024-01-21T09:39:46.814122Z"
    }
   },
   "outputs": [],
   "source": [
    "#tokenizing and padding accordingly......\n",
    "train_input_ids,train_output_ids = tokenize_pad(train_df['English'],train_df['German'])\n",
    "valid_input_ids,valid_output_ids = tokenize_pad(test_df['English'],test_df['German'])"
   ]
  },
  {
   "cell_type": "code",
   "execution_count": 14,
   "metadata": {
    "execution": {
     "iopub.execute_input": "2024-01-21T09:39:56.020408Z",
     "iopub.status.busy": "2024-01-21T09:39:56.019457Z",
     "iopub.status.idle": "2024-01-21T09:39:56.040278Z",
     "shell.execute_reply": "2024-01-21T09:39:56.039187Z",
     "shell.execute_reply.started": "2024-01-21T09:39:56.020365Z"
    }
   },
   "outputs": [
    {
     "data": {
      "text/plain": [
       "\"We referred extensively to the agenda for the Thessaloniki Council at this morning's debate.<|endoftext|><|endoftext|><|endoftext|><|endoftext|><|endoftext|><|endoftext|><|endoftext|><|endoftext|><|endoftext|><|endoftext|><|endoftext|><|endoftext|>\""
      ]
     },
     "execution_count": 14,
     "metadata": {},
     "output_type": "execute_result"
    }
   ],
   "source": [
    "#snapshot after tokenization....\n",
    "tokenizer.decode(train_input_ids[0][:31])"
   ]
  },
  {
   "cell_type": "code",
   "execution_count": 15,
   "metadata": {
    "execution": {
     "iopub.execute_input": "2024-01-21T09:40:00.069380Z",
     "iopub.status.busy": "2024-01-21T09:40:00.068627Z",
     "iopub.status.idle": "2024-01-21T09:40:00.075932Z",
     "shell.execute_reply": "2024-01-21T09:40:00.074669Z",
     "shell.execute_reply.started": "2024-01-21T09:40:00.069346Z"
    }
   },
   "outputs": [
    {
     "data": {
      "text/plain": [
       "'Auf die Tagesordnung des Rates von Thessaloniki sind wir in der Debatte am Vormittag ausführlich eingegangen.<|endoftext|><|endoftext|><|endoftext|><|endoftext|><|endoftext|><|endoftext|><|endoftext|><|endoftext|><|endoftext|><|endoftext|><|endoftext|><|endoftext|><|endoftext|><|endoftext|><|endoftext|><|endoftext|><|endoftext|><|endoftext|><|endoftext|>'"
      ]
     },
     "execution_count": 15,
     "metadata": {},
     "output_type": "execute_result"
    }
   ],
   "source": [
    "#snapshot after tokenization.....\n",
    "tokenizer.decode(train_output_ids[0][:60])"
   ]
  },
  {
   "cell_type": "code",
   "execution_count": 16,
   "metadata": {
    "execution": {
     "iopub.execute_input": "2024-01-21T09:40:03.844374Z",
     "iopub.status.busy": "2024-01-21T09:40:03.843610Z",
     "iopub.status.idle": "2024-01-21T09:40:03.849980Z",
     "shell.execute_reply": "2024-01-21T09:40:03.849008Z",
     "shell.execute_reply.started": "2024-01-21T09:40:03.844328Z"
    }
   },
   "outputs": [],
   "source": [
    "#checking if every sample is in same dimensions.....\n",
    "def check_tokens(tokens,dim=1024):\n",
    "    for tok in tokens:\n",
    "        if tok.shape[0]!=dim:\n",
    "            return False\n",
    "    return True"
   ]
  },
  {
   "cell_type": "code",
   "execution_count": 17,
   "metadata": {
    "execution": {
     "iopub.execute_input": "2024-01-21T09:40:04.242644Z",
     "iopub.status.busy": "2024-01-21T09:40:04.241874Z",
     "iopub.status.idle": "2024-01-21T09:40:04.255755Z",
     "shell.execute_reply": "2024-01-21T09:40:04.254699Z",
     "shell.execute_reply.started": "2024-01-21T09:40:04.242605Z"
    }
   },
   "outputs": [
    {
     "data": {
      "text/plain": [
       "(True, True, True, True)"
      ]
     },
     "execution_count": 17,
     "metadata": {},
     "output_type": "execute_result"
    }
   ],
   "source": [
    "check_tokens(train_input_ids,1016),check_tokens(valid_input_ids,1016),check_tokens(train_output_ids),check_tokens(valid_output_ids)"
   ]
  },
  {
   "cell_type": "markdown",
   "metadata": {},
   "source": [
    "## Defining the Soft Prompt Architecture"
   ]
  },
  {
   "cell_type": "code",
   "execution_count": 18,
   "metadata": {
    "execution": {
     "iopub.execute_input": "2024-01-21T09:40:07.957109Z",
     "iopub.status.busy": "2024-01-21T09:40:07.956316Z",
     "iopub.status.idle": "2024-01-21T09:40:15.253191Z",
     "shell.execute_reply": "2024-01-21T09:40:15.252293Z",
     "shell.execute_reply.started": "2024-01-21T09:40:07.957074Z"
    }
   },
   "outputs": [
    {
     "data": {
      "application/vnd.jupyter.widget-view+json": {
       "model_id": "9bf40df0cb6a42dda2196bdf71fa0209",
       "version_major": 2,
       "version_minor": 0
      },
      "text/plain": [
       "model.safetensors:   0%|          | 0.00/548M [00:00<?, ?B/s]"
      ]
     },
     "metadata": {},
     "output_type": "display_data"
    },
    {
     "data": {
      "application/vnd.jupyter.widget-view+json": {
       "model_id": "8cce18e69794404890b10480781a2f25",
       "version_major": 2,
       "version_minor": 0
      },
      "text/plain": [
       "generation_config.json:   0%|          | 0.00/124 [00:00<?, ?B/s]"
      ]
     },
     "metadata": {},
     "output_type": "display_data"
    }
   ],
   "source": [
    "#pretrained GPT-2 model....\n",
    "model_name = \"gpt2\"\n",
    "gpt2_model = GPT2LMHeadModel.from_pretrained(model_name)\n",
    "\n",
    "\n",
    "# Define the number of prompts and embedding size\n",
    "num_prompts = 8  # \"summarize the following text\"\n",
    "embedding_size = 768\n",
    "\n",
    "# Create an embedding layer for soft prompts and initialize with the sentence embeddings\n",
    "soft_prompt_embeddings = nn.Embedding(num_prompts, embedding_size)\n",
    "\n",
    "# Concatenate soft prompt embeddings at the beginning of the input sequence\n",
    "class GPT2WithPromptTuning(nn.Module):\n",
    "    def __init__(self, gpt2_model, soft_prompt_embeddings):\n",
    "        super(GPT2WithPromptTuning, self).__init__()\n",
    "        self.gpt2_model = gpt2_model\n",
    "        self.soft_prompt_embeddings = soft_prompt_embeddings\n",
    "    \n",
    "    def forward(self, input_ids, soft_prompt_ids):\n",
    "        # Get the embeddings for the input_ids from the GPT-2 model\n",
    "        gpt2_embeddings = self.gpt2_model.transformer.wte(input_ids)\n",
    "        # Get the embeddings for the soft prompts\n",
    "        soft_prompt_embeds = self.soft_prompt_embeddings(soft_prompt_ids)\n",
    "        \n",
    "        # Concatenate the embeddings\n",
    "        embeddings = torch.cat([soft_prompt_embeds, gpt2_embeddings], dim=0)\n",
    "        # Pass the concatenated embeddings through the GPT-2 model\n",
    "        outputs = self.gpt2_model(inputs_embeds=embeddings)\n",
    "    \n",
    "        return outputs"
   ]
  },
  {
   "cell_type": "markdown",
   "metadata": {},
   "source": [
    "## Freezing GPT-2 model weights"
   ]
  },
  {
   "cell_type": "code",
   "execution_count": 19,
   "metadata": {
    "execution": {
     "iopub.execute_input": "2024-01-21T09:40:19.604888Z",
     "iopub.status.busy": "2024-01-21T09:40:19.604401Z",
     "iopub.status.idle": "2024-01-21T09:40:19.612442Z",
     "shell.execute_reply": "2024-01-21T09:40:19.611331Z",
     "shell.execute_reply.started": "2024-01-21T09:40:19.604829Z"
    }
   },
   "outputs": [],
   "source": [
    "# Initialize the model\n",
    "model = GPT2WithPromptTuning(gpt2_model, soft_prompt_embeddings)\n",
    "\n",
    "# Freeze GPT-2 model weights\n",
    "for param in model.gpt2_model.parameters():\n",
    "    param.requires_grad = False\n",
    "\n",
    "# Define hyperparameters\n",
    "epochs = 10\n",
    "learning_rate = 2e-5\n",
    "gradient_clip_value = 1.0\n",
    "\n",
    "# Define optimizer and criterion\n",
    "optimizer = torch.optim.AdamW(model.soft_prompt_embeddings.parameters(), lr=learning_rate)\n",
    "criterion = nn.CrossEntropyLoss(ignore_index=-100)\n",
    "\n",
    "#token ids for softprompt...\n",
    "soft_prompt_ids = torch.tensor([0, 1, 2, 3 ,4 ,5,6,7])"
   ]
  },
  {
   "cell_type": "markdown",
   "metadata": {},
   "source": [
    "## Training the model "
   ]
  },
  {
   "cell_type": "code",
   "execution_count": 21,
   "metadata": {
    "execution": {
     "iopub.execute_input": "2024-01-21T09:40:47.904296Z",
     "iopub.status.busy": "2024-01-21T09:40:47.903612Z",
     "iopub.status.idle": "2024-01-21T11:02:01.709504Z",
     "shell.execute_reply": "2024-01-21T11:02:01.708272Z",
     "shell.execute_reply.started": "2024-01-21T09:40:47.904260Z"
    }
   },
   "outputs": [
    {
     "name": "stderr",
     "output_type": "stream",
     "text": [
      "\u001b[34m\u001b[1mwandb\u001b[0m: Logging into wandb.ai. (Learn how to deploy a W&B server locally: https://wandb.me/wandb-server)\n",
      "\u001b[34m\u001b[1mwandb\u001b[0m: You can find your API key in your browser here: https://wandb.ai/authorize\n",
      "\u001b[34m\u001b[1mwandb\u001b[0m: Paste an API key from your profile and hit enter, or press ctrl+c to quit:"
     ]
    },
    {
     "name": "stdout",
     "output_type": "stream",
     "text": [
      "  ········································\n"
     ]
    },
    {
     "name": "stderr",
     "output_type": "stream",
     "text": [
      "\u001b[34m\u001b[1mwandb\u001b[0m: Appending key for api.wandb.ai to your netrc file: /root/.netrc\n"
     ]
    },
    {
     "data": {
      "text/html": [
       "Tracking run with wandb version 0.16.2"
      ],
      "text/plain": [
       "<IPython.core.display.HTML object>"
      ]
     },
     "metadata": {},
     "output_type": "display_data"
    },
    {
     "data": {
      "text/html": [
       "Run data is saved locally in <code>/kaggle/working/wandb/run-20240121_094104-wjxfnb6v</code>"
      ],
      "text/plain": [
       "<IPython.core.display.HTML object>"
      ]
     },
     "metadata": {},
     "output_type": "display_data"
    },
    {
     "data": {
      "text/html": [
       "Syncing run <strong><a href='https://wandb.ai/gouse_73/SoftPrompt%20on%20GPT-2%20for%20Summarization/runs/wjxfnb6v' target=\"_blank\">Europarl-Translation</a></strong> to <a href='https://wandb.ai/gouse_73/SoftPrompt%20on%20GPT-2%20for%20Summarization' target=\"_blank\">Weights & Biases</a> (<a href='https://wandb.me/run' target=\"_blank\">docs</a>)<br/>"
      ],
      "text/plain": [
       "<IPython.core.display.HTML object>"
      ]
     },
     "metadata": {},
     "output_type": "display_data"
    },
    {
     "data": {
      "text/html": [
       " View project at <a href='https://wandb.ai/gouse_73/SoftPrompt%20on%20GPT-2%20for%20Summarization' target=\"_blank\">https://wandb.ai/gouse_73/SoftPrompt%20on%20GPT-2%20for%20Summarization</a>"
      ],
      "text/plain": [
       "<IPython.core.display.HTML object>"
      ]
     },
     "metadata": {},
     "output_type": "display_data"
    },
    {
     "data": {
      "text/html": [
       " View run at <a href='https://wandb.ai/gouse_73/SoftPrompt%20on%20GPT-2%20for%20Summarization/runs/wjxfnb6v' target=\"_blank\">https://wandb.ai/gouse_73/SoftPrompt%20on%20GPT-2%20for%20Summarization/runs/wjxfnb6v</a>"
      ],
      "text/plain": [
       "<IPython.core.display.HTML object>"
      ]
     },
     "metadata": {},
     "output_type": "display_data"
    },
    {
     "name": "stderr",
     "output_type": "stream",
     "text": [
      "Epoch 1:   0%|          | 0/2863 [00:00<?, ?it/s]/opt/conda/lib/python3.10/site-packages/nltk/translate/bleu_score.py:490: UserWarning: \n",
      "Corpus/Sentence contains 0 counts of 2-gram overlaps.\n",
      "BLEU scores might be undesirable; use SmoothingFunction().\n",
      "  warnings.warn(_msg)\n",
      "Epoch 1:   2%|▏         | 57/2863 [00:09<06:56,  6.74it/s, Training Loss=13.5]/opt/conda/lib/python3.10/site-packages/nltk/translate/bleu_score.py:490: UserWarning: \n",
      "Corpus/Sentence contains 0 counts of 3-gram overlaps.\n",
      "BLEU scores might be undesirable; use SmoothingFunction().\n",
      "  warnings.warn(_msg)\n",
      "Epoch 1: 100%|██████████| 2863/2863 [07:00<00:00,  6.80it/s, Training Loss=12.6]\n",
      "Epoch 2: 100%|██████████| 2863/2863 [07:00<00:00,  6.81it/s, Training Loss=12.2]\n",
      "Epoch 3: 100%|██████████| 2863/2863 [07:02<00:00,  6.78it/s, Training Loss=11.5]\n",
      "Epoch 4: 100%|██████████| 2863/2863 [07:01<00:00,  6.79it/s, Training Loss=11.8]\n",
      "Epoch 5: 100%|██████████| 2863/2863 [07:01<00:00,  6.79it/s, Training Loss=11.4]\n",
      "Epoch 6: 100%|██████████| 2863/2863 [07:01<00:00,  6.79it/s, Training Loss=11.5]\n",
      "Epoch 7: 100%|██████████| 2863/2863 [07:04<00:00,  6.74it/s, Training Loss=11.4]\n",
      "Epoch 8: 100%|██████████| 2863/2863 [07:04<00:00,  6.74it/s, Training Loss=10.8]\n",
      "Epoch 9: 100%|██████████| 2863/2863 [07:05<00:00,  6.74it/s, Training Loss=10.7]\n",
      "Epoch 10: 100%|██████████| 2863/2863 [07:04<00:00,  6.74it/s, Training Loss=10.1]\n"
     ]
    }
   ],
   "source": [
    "device = torch.device(\"cuda\" if torch.cuda.is_available() else \"cpu\")\n",
    "\n",
    "# Move model to GPU\n",
    "model.to(device)\n",
    "\n",
    "# Define device (assuming you have a CUDA-enabled GPU)\n",
    "\n",
    "# Move optimizer and criterion to GPU\n",
    "optimizer = torch.optim.AdamW(model.soft_prompt_embeddings.parameters(), lr=learning_rate)\n",
    "criterion = nn.CrossEntropyLoss(ignore_index=-100).to(device)\n",
    "\n",
    "# Initialize Weights and Biases\n",
    "wandb.init(project='SoftPrompt on GPT-2 for Summarization', name = \"Europarl-Translation\", config={'learning_rate': learning_rate})\n",
    "model.train()\n",
    "# Training loop\n",
    "for epoch in range(epochs):\n",
    "    # Create a tqdm progress bar for the training data\n",
    "    data_iterator = tqdm(zip(train_input_ids,train_output_ids), desc=f'Epoch {epoch + 1}', total=len(train_input_ids))\n",
    "    train_blu = []\n",
    "    for input_ids, target_ids in data_iterator:\n",
    "        optimizer.zero_grad()\n",
    "\n",
    "        # Move input and target tensors to GPU\n",
    "        input_ids, target_ids = input_ids.to(device), target_ids.to(device)\n",
    "        \n",
    "        # Assuming you have a soft_prompt_ids for each training instance\n",
    "        # If not, you might need to modify this part accordingly\n",
    "        outputs = model(input_ids, soft_prompt_ids.to(device))\n",
    "        logits = outputs.logits if hasattr(outputs, \"logits\") else outputs.last_hidden_state\n",
    "        \n",
    "        # Create a mask to ignore padding tokens\n",
    "        pad_mask = (target_ids != 50256)\n",
    "\n",
    "        # Flatten the logits and target_ids while ignoring padding tokens\n",
    "        flattened_logits = logits.view(-1, logits.size(-1))[pad_mask.view(-1)]\n",
    "        flattened_target_ids = target_ids.view(-1)[pad_mask.view(-1)]\n",
    "        \n",
    "        loss = criterion(flattened_logits,flattened_target_ids) \n",
    "        loss.backward()\n",
    "        \n",
    "        predictions = logits.argmax(dim=-1).squeeze(0).tolist()\n",
    "        references = target_ids.squeeze(0).tolist()\n",
    "        \n",
    "        # BLEU Score\n",
    "        tr_blu = sentence_bleu([references], predictions)\n",
    "        train_blu.append(tr_blu)\n",
    "        # Gradient clipping to prevent exploding gradients\n",
    "        torch.nn.utils.clip_grad_norm_(model.parameters(), gradient_clip_value)\n",
    "        \n",
    "        optimizer.step()\n",
    "\n",
    "        # Update the progress bar description with the current loss\n",
    "        data_iterator.set_postfix({'Training Loss' : loss.item()})\n",
    "    \n",
    "#     # Validation loop\n",
    "    model.eval()\n",
    "    val_losses = []\n",
    "    bleu_score = []\n",
    "    with torch.no_grad():\n",
    "        for input_ids_val, target_ids_val in zip(valid_input_ids,valid_output_ids):\n",
    "            input_ids_val, target_ids_val = input_ids_val.to(device), target_ids_val.to(device)\n",
    "            outputs_val = model(input_ids_val, soft_prompt_ids.to(device))\n",
    "            logits_val = outputs_val.logits if hasattr(outputs_val, \"logits\") else outputs_val.last_hidden_state\n",
    "            # Create a mask to ignore padding tokens\n",
    "            pad_mask = (target_ids_val != 50256)\n",
    "\n",
    "            # Flatten the logits and target_ids while ignoring padding tokens\n",
    "            flattened_logits_val = logits_val.view(-1, logits.size(-1))[pad_mask.view(-1)]\n",
    "            flattened_target_ids_val= target_ids_val.view(-1)[pad_mask.view(-1)]\n",
    "            \n",
    "            \n",
    "            loss_val = criterion(flattened_logits_val,flattened_target_ids_val)\n",
    "            val_losses.append(loss_val.item())\n",
    "            # Convert tensor predictions and references to lists\n",
    "            predictions = logits_val.argmax(dim=-1).squeeze(0).tolist()\n",
    "            references = target_ids_val.squeeze(0).tolist()\n",
    "\n",
    "            # BLEU Score\n",
    "            blu = sentence_bleu([references], predictions)\n",
    "            bleu_score.append(blu)\n",
    "    avg_val_loss = sum(val_losses) / len(val_losses)\n",
    "    avg_val_bl   = sum(bleu_score) / len(bleu_score)\n",
    "    avg_tr_bl    = sum(train_blu) / len(train_blu)\n",
    "    \n",
    "    data_iterator.set_postfix({\"Validation Loss\" : avg_val_loss})\n",
    "    wandb.log({\"epoch\": epoch + 1, \"train_loss\": loss.item(), \"train_bleu\" : avg_tr_bl ,\"val_loss\": avg_val_loss,\"val_bleu_score\" : avg_val_bl})\n",
    "\n",
    "    # Set the model back to training mode\n",
    "    model.train()\n",
    "\n",
    "# Close the tqdm progress bar\n",
    "data_iterator.close()"
   ]
  },
  {
   "cell_type": "markdown",
   "metadata": {},
   "source": [
    "## Results and Plots"
   ]
  },
  {
   "cell_type": "code",
   "execution_count": 22,
   "metadata": {
    "execution": {
     "iopub.execute_input": "2024-01-21T11:02:29.412880Z",
     "iopub.status.busy": "2024-01-21T11:02:29.411895Z",
     "iopub.status.idle": "2024-01-21T11:02:34.945107Z",
     "shell.execute_reply": "2024-01-21T11:02:34.944124Z",
     "shell.execute_reply.started": "2024-01-21T11:02:29.412824Z"
    }
   },
   "outputs": [
    {
     "data": {
      "application/vnd.jupyter.widget-view+json": {
       "model_id": "",
       "version_major": 2,
       "version_minor": 0
      },
      "text/plain": [
       "VBox(children=(Label(value='0.001 MB of 0.001 MB uploaded\\r'), FloatProgress(value=1.0, max=1.0)))"
      ]
     },
     "metadata": {},
     "output_type": "display_data"
    },
    {
     "data": {
      "text/html": [
       "<style>\n",
       "    table.wandb td:nth-child(1) { padding: 0 10px; text-align: left ; width: auto;} td:nth-child(2) {text-align: left ; width: 100%}\n",
       "    .wandb-row { display: flex; flex-direction: row; flex-wrap: wrap; justify-content: flex-start; width: 100% }\n",
       "    .wandb-col { display: flex; flex-direction: column; flex-basis: 100%; flex: 1; padding: 10px; }\n",
       "    </style>\n",
       "<div class=\"wandb-row\"><div class=\"wandb-col\"><h3>Run history:</h3><br/><table class=\"wandb\"><tr><td>epoch</td><td>▁▂▃▃▄▅▆▆▇█</td></tr><tr><td>train_bleu</td><td>█▇▇▇▅▆▄▂▂▁</td></tr><tr><td>train_loss</td><td>█▇▅▆▅▅▅▃▃▁</td></tr><tr><td>val_bleu_score</td><td>█▆▁▂▂▃▄▅▄▄</td></tr><tr><td>val_loss</td><td>█▇▇▆▅▅▄▄▃▁</td></tr></table><br/></div><div class=\"wandb-col\"><h3>Run summary:</h3><br/><table class=\"wandb\"><tr><td>epoch</td><td>10</td></tr><tr><td>train_bleu</td><td>0.22115</td></tr><tr><td>train_loss</td><td>10.08503</td></tr><tr><td>val_bleu_score</td><td>0.22061</td></tr><tr><td>val_loss</td><td>10.53931</td></tr></table><br/></div></div>"
      ],
      "text/plain": [
       "<IPython.core.display.HTML object>"
      ]
     },
     "metadata": {},
     "output_type": "display_data"
    },
    {
     "data": {
      "text/html": [
       " View run <strong style=\"color:#cdcd00\">Europarl-Translation</strong> at: <a href='https://wandb.ai/gouse_73/SoftPrompt%20on%20GPT-2%20for%20Summarization/runs/wjxfnb6v' target=\"_blank\">https://wandb.ai/gouse_73/SoftPrompt%20on%20GPT-2%20for%20Summarization/runs/wjxfnb6v</a><br/>Synced 6 W&B file(s), 0 media file(s), 0 artifact file(s) and 0 other file(s)"
      ],
      "text/plain": [
       "<IPython.core.display.HTML object>"
      ]
     },
     "metadata": {},
     "output_type": "display_data"
    },
    {
     "data": {
      "text/html": [
       "Find logs at: <code>./wandb/run-20240121_094104-wjxfnb6v/logs</code>"
      ],
      "text/plain": [
       "<IPython.core.display.HTML object>"
      ]
     },
     "metadata": {},
     "output_type": "display_data"
    }
   ],
   "source": [
    "wandb.finish()"
   ]
  },
  {
   "cell_type": "markdown",
   "metadata": {},
   "source": [
    "### Legends\n",
    "Orange -- Training BLEU Score, Blue -- Validation BLEU Score\n"
   ]
  },
  {
   "attachments": {
    "SoftPrompt-Translation-Loss.png": {
     "image/png": "[encoded data removed]"
    }
   },
   "cell_type": "markdown",
   "metadata": {},
   "source": [
    "![SoftPrompt-Translation-Loss.png](attachment:SoftPrompt-Translation-Loss.png)"
   ]
  },
  {
   "attachments": {
    "SoftPrompt-Translation-BLEU.png": {
     "image/png": "[encoded data removed]"
    }
   },
   "cell_type": "markdown",
   "metadata": {},
   "source": [
    "![SoftPrompt-Translation-BLEU.png](attachment:SoftPrompt-Translation-BLEU.png)"
   ]
  },
  {
   "cell_type": "markdown",
   "metadata": {},
   "source": [
    "## Inferences from the results and plots\n",
    "> Training and Validation Loss\n",
    ">- Training and Validation loss curves are continually decreasing indicating further learning (more number of epochs)\n",
    "\n",
    "\n",
    "> BLEU Scores\n",
    ">- BLEU scores are an average of unigram, bigram, trigram, 4-gram precision scores with the added penalty for brevity.\n",
    ">-  When compared to the other fine-tuning tasks such as __Summarization__ and __Question and Answering__, BLEU scores work since it is based on precision. Machine translation tasks saturates at BLEU scores as shown above (__0.22__) that is a __below average score__.\n",
    ">- This is indicative of the fact that BLEU scores do not consider __meaning and structure of the sentence__. It only rewards precision scores for n-gram matches hence why machine translation tasks have such low BLEU scores.\n"
   ]
  },
  {
   "cell_type": "code",
   "execution_count": null,
   "metadata": {},
   "outputs": [],
   "source": []
  }
 ],
 "metadata": {
  "kaggle": {
   "accelerator": "gpu",
   "dataSources": [
    {
     "datasetId": 4334263,
     "sourceId": 7446370,
     "sourceType": "datasetVersion"
    }
   ],
   "dockerImageVersionId": 30636,
   "isGpuEnabled": true,
   "isInternetEnabled": true,
   "language": "python",
   "sourceType": "notebook"
  },
  "kernelspec": {
   "display_name": "Python 3 (ipykernel)",
   "language": "python",
   "name": "python3"
  },
  "language_info": {
   "codemirror_mode": {
    "name": "ipython",
    "version": 3
   },
   "file_extension": ".py",
   "mimetype": "text/x-python",
   "name": "python",
   "nbconvert_exporter": "python",
   "pygments_lexer": "ipython3",
   "version": "3.9.12"
  }
 },
 "nbformat": 4,
 "nbformat_minor": 4
}
